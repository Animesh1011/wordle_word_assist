{
 "cells": [
  {
   "cell_type": "code",
   "execution_count": null,
   "id": "ce749f7a",
   "metadata": {},
   "outputs": [],
   "source": [
    "#!pip install english-words"
   ]
  },
  {
   "cell_type": "code",
   "execution_count": null,
   "id": "68de6dab",
   "metadata": {},
   "outputs": [],
   "source": [
    "from english_words import english_words_lower_alpha_set"
   ]
  },
  {
   "cell_type": "code",
   "execution_count": null,
   "id": "c1f1a8e3",
   "metadata": {},
   "outputs": [],
   "source": [
    "#wordle_word_assists\n",
    "\n",
    "def wordle_word_assists(startswith='',second_position='',middle_position='',fourth_position='',endswith='',include='',doesnotinclude='',contain_not_in_pos=''):\n",
    "    #variable decralation\n",
    "    startswith = startswith\n",
    "    second_position = second_position\n",
    "    middle_position = middle_position\n",
    "    fourth_position = fourth_position\n",
    "    endswith = endswith\n",
    "    include = include\n",
    "    doesnotinclude = doesnotinclude\n",
    "    contain_not_in_pos = contain_not_in_pos\n",
    "    \n",
    "    five_word_list = [x for x in english_words_lower_alpha_set if len(x) == 5]\n",
    "    final_word_list = five_word_list\n",
    "    \n",
    "    #doesnotinclude\n",
    "    doesnotinclude_list = [x for x in doesnotinclude]\n",
    "    if doesnotinclude_list:\n",
    "        for letter in doesnotinclude_list:\n",
    "            for word in final_word_list[:]:\n",
    "                if letter in word:\n",
    "                    final_word_list.remove(word)\n",
    "    \n",
    "    #include\n",
    "    include_list = [x for x in include]\n",
    "    if include_list:\n",
    "        for letter in include_list:\n",
    "            for word in final_word_list[:]:\n",
    "                if letter not in word:\n",
    "                    final_word_list.remove(word)\n",
    "                    \n",
    "    #contains_but_not_in_nth_position\n",
    "    contain_not_in_pos_list = [(contain_not_in_pos[x],contain_not_in_pos[x+1]) for x in range(0,len(contain_not_in_pos),2)]\n",
    "    if contain_not_in_pos_list:\n",
    "        for tuples in contain_not_in_pos_list:\n",
    "            for word in final_word_list[:]:\n",
    "                if word[int(tuples[0])-1]==tuples[1]:\n",
    "                    final_word_list.remove(word)\n",
    "                    \n",
    "    #startswith\n",
    "    if startswith:\n",
    "        for word in final_word_list[:]:\n",
    "            if word[0]!=startswith:\n",
    "                final_word_list.remove(word)\n",
    "                \n",
    "    #second_position\n",
    "    if second_position:\n",
    "        for word in final_word_list[:]:\n",
    "            if word[1]!=second_position:\n",
    "                final_word_list.remove(word)\n",
    "                \n",
    "    #middle_position\n",
    "    if middle_position:\n",
    "        for word in final_word_list[:]:\n",
    "            if word[2]!=middle_position:\n",
    "                final_word_list.remove(word)\n",
    "                \n",
    "    #fourth_position\n",
    "    if fourth_position:\n",
    "        for word in final_word_list[:]:\n",
    "            if word[3]!=fourth_position:\n",
    "                final_word_list.remove(word)\n",
    "                \n",
    "    #endswith\n",
    "    if endswith:\n",
    "        for word in final_word_list[:]:\n",
    "            if word[4]!=endswith:\n",
    "                final_word_list.remove(word)\n",
    "    return final_word_list"
   ]
  },
  {
   "cell_type": "code",
   "execution_count": null,
   "id": "6249838e",
   "metadata": {},
   "outputs": [],
   "source": [
    "print(wordle_word_assists(contain_not_in_pos='',startswith='',second_position='',middle_position='',fourth_position='',endswith='',include='',doesnotinclude=''))"
   ]
  },
  {
   "cell_type": "code",
   "execution_count": null,
   "id": "378ad338",
   "metadata": {},
   "outputs": [],
   "source": []
  }
 ],
 "metadata": {
  "kernelspec": {
   "display_name": "Python 3",
   "language": "python",
   "name": "python3"
  },
  "language_info": {
   "codemirror_mode": {
    "name": "ipython",
    "version": 3
   },
   "file_extension": ".py",
   "mimetype": "text/x-python",
   "name": "python",
   "nbconvert_exporter": "python",
   "pygments_lexer": "ipython3",
   "version": "3.8.8"
  }
 },
 "nbformat": 4,
 "nbformat_minor": 5
}
